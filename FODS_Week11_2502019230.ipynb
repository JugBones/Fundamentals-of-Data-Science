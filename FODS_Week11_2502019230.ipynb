{
  "cells": [
    {
      "cell_type": "markdown",
      "metadata": {
        "id": "k5Xr9Dv4NjuF"
      },
      "source": [
        "Steps in a user-based recommendation system:\n",
        "\n",
        "1. Select a user with the movies the user has watched\n",
        "2. Based on his rating to movies, find the top x neighbours\n",
        "3. Get the watched movie record of the user for each neighbour.\n",
        "4. Calculate a similarity score using some formula\n",
        "5. Recommend the items with the highest score"
      ]
    },
    {
      "cell_type": "code",
      "execution_count": 20,
      "metadata": {
        "id": "m32700SVNjuL"
      },
      "outputs": [],
      "source": [
        "import pandas as pd\n",
        "from math import sqrt\n",
        "import numpy as np\n"
      ]
    },
    {
      "cell_type": "code",
      "execution_count": 23,
      "metadata": {
        "colab": {
          "base_uri": "https://localhost:8080/"
        },
        "id": "maXzLmxGNjuO",
        "outputId": "722a3c25-4c54-444c-e806-d0a36907fdc5"
      },
      "outputs": [
        {
          "output_type": "stream",
          "name": "stdout",
          "text": [
            "<class 'pandas.core.frame.DataFrame'>\n",
            "RangeIndex: 33 entries, 0 to 32\n",
            "Data columns (total 14 columns):\n",
            " #   Column            Non-Null Count  Dtype  \n",
            "---  ------            --------------  -----  \n",
            " 0   cellphone_id      33 non-null     int64  \n",
            " 1   brand             33 non-null     object \n",
            " 2   model             33 non-null     object \n",
            " 3   operating system  33 non-null     object \n",
            " 4   internal memory   33 non-null     int64  \n",
            " 5   RAM               33 non-null     int64  \n",
            " 6   performance       33 non-null     float64\n",
            " 7   main camera       33 non-null     int64  \n",
            " 8   selfie camera     33 non-null     int64  \n",
            " 9   battery size      33 non-null     int64  \n",
            " 10  screen size       33 non-null     float64\n",
            " 11  weight            33 non-null     int64  \n",
            " 12  price             33 non-null     int64  \n",
            " 13  release date      33 non-null     object \n",
            "dtypes: float64(2), int64(8), object(4)\n",
            "memory usage: 3.7+ KB\n",
            "None\n"
          ]
        }
      ],
      "source": [
        "cellphones_df = pd.read_csv('cellphones data.csv')\n",
        "ratings_df = pd.read_csv('cellphones ratings.csv')\n",
        "print(cellphones_df.info())"
      ]
    },
    {
      "cell_type": "code",
      "execution_count": 24,
      "metadata": {
        "colab": {
          "base_uri": "https://localhost:8080/"
        },
        "id": "gW_QBJHLNjuP",
        "outputId": "8be5cacd-a938-4836-d9a2-d67be48bedc4"
      },
      "outputs": [
        {
          "output_type": "stream",
          "name": "stdout",
          "text": [
            "            model  rating\n",
            "0  iPhone 13 Mini       9\n",
            "1         Pixel 6       4\n",
            "2       Zenfone 8       5\n",
            "3      Galaxy A13       7\n",
            "4     Find X5 Pro       8\n"
          ]
        }
      ],
      "source": [
        "userInput = [{'model': 'iPhone 13 Mini', 'rating':9},\n",
        "             {'model': 'Pixel 6', 'rating':4},\n",
        "             {'model': 'Zenfone 8', 'rating':5},\n",
        "             {'model': 'Galaxy A13', 'rating':7},\n",
        "             {'model': 'Find X5 Pro', 'rating':8}]\n",
        "inputCellphone = pd.DataFrame(userInput)\n",
        "print(inputCellphone)"
      ]
    },
    {
      "cell_type": "code",
      "source": [
        "inputId = cellphones_df[cellphones_df['model'].isin(inputCellphone['model'].tolist())]\n",
        "inputCellphone = pd.merge(inputId, inputCellphone)\n",
        "inputCellphone = inputCellphone.drop('brand', 1) #we don't really need this at the moment\n",
        "inputCellphone = inputCellphone[['cellphone_id','model','rating']]\n",
        "print(inputCellphone)"
      ],
      "metadata": {
        "id": "qPrrJ50ZLV96",
        "colab": {
          "base_uri": "https://localhost:8080/"
        },
        "outputId": "f064f7c1-a853-4cf0-83ea-84d0239ccf7c"
      },
      "execution_count": 25,
      "outputs": [
        {
          "output_type": "stream",
          "name": "stdout",
          "text": [
            "   cellphone_id           model  rating\n",
            "0             1  iPhone 13 Mini       9\n",
            "1             6       Zenfone 8       5\n",
            "2             7      Galaxy A13       7\n",
            "3            22     Find X5 Pro       8\n"
          ]
        },
        {
          "output_type": "stream",
          "name": "stderr",
          "text": [
            "<ipython-input-25-e95cb0768e6f>:3: FutureWarning: In a future version of pandas all arguments of DataFrame.drop except for the argument 'labels' will be keyword-only\n",
            "  inputCellphone = inputCellphone.drop('brand', 1) #we don't really need this at the moment\n"
          ]
        }
      ]
    },
    {
      "cell_type": "code",
      "execution_count": 28,
      "metadata": {
        "colab": {
          "base_uri": "https://localhost:8080/"
        },
        "id": "BmGI-DmrNjuS",
        "outputId": "63123b39-1f47-4735-97a5-6dd0beea92c2"
      },
      "outputs": [
        {
          "output_type": "stream",
          "name": "stdout",
          "text": [
            "              user_id  rating\n",
            "cellphone_id                 \n",
            "1                  24      24\n",
            "6                  30      30\n",
            "7                  29      29\n",
            "22                 30      30\n"
          ]
        }
      ],
      "source": [
        "userSubset = ratings_df[ratings_df['cellphone_id'].isin(inputCellphone['cellphone_id'].tolist())]\n",
        "print(userSubset.groupby('cellphone_id').count())"
      ]
    },
    {
      "cell_type": "code",
      "execution_count": 29,
      "metadata": {
        "colab": {
          "base_uri": "https://localhost:8080/"
        },
        "id": "-1566eb1NjuU",
        "outputId": "3d6885bf-4ba5-4d9f-be61-4f951b61d05b"
      },
      "outputs": [
        {
          "output_type": "stream",
          "name": "stdout",
          "text": [
            "[(36,      user_id  cellphone_id  rating\n",
            "172       36             6       1\n",
            "173       36             1       6\n",
            "176       36            22       4), (178,      user_id  cellphone_id  rating\n",
            "650      178             1      10\n",
            "657      178            22       9\n",
            "658      178             7      10), (194,      user_id  cellphone_id  rating\n",
            "672      194             1       9\n",
            "677      194            22       8\n",
            "679      194             7       8), (6,     user_id  cellphone_id  rating\n",
            "23        6             1       2\n",
            "27        6             7       9), (24,     user_id  cellphone_id  rating\n",
            "74       24            22       7\n",
            "75       24             6       7)]\n"
          ]
        }
      ],
      "source": [
        "#Groupby creates several sub dataframes where they all have the same value in the column specified as the parameter\n",
        "userSubsetGroup = userSubset.groupby(['user_id'])\n",
        "\n",
        "def take_5_elem(x):\n",
        "    # print (len(x[1]))\n",
        "    return len(x[1])\n",
        "    \n",
        "\n",
        "#Sorting it so users with resto most in common with the input will have priority\n",
        "userSubsetGroup = sorted(userSubsetGroup, key=take_5_elem, reverse=True)\n",
        "\n",
        "userSubsetGroup = userSubsetGroup[0:100]\n",
        "print(userSubsetGroup[0:5])\n"
      ]
    },
    {
      "cell_type": "code",
      "execution_count": 30,
      "metadata": {
        "id": "h_KYBeMtNjuV"
      },
      "outputs": [],
      "source": [
        "#Store the Pearson Correlation in a dictionary, where the key is the user Id and the value is the coefficient\n",
        "pearsonCorrelationDict = {}\n",
        "\n",
        "#For every user group in our subset\n",
        "for name, group in userSubsetGroup:\n",
        "\n",
        "    #Let's start by sorting the input and current user group so the values aren't mixed up later on\n",
        "    group = group.sort_values(by='cellphone_id')\n",
        "    inputCellphone = inputCellphone.sort_values(by='cellphone_id')\n",
        "\n",
        "    #Get the N for the formula\n",
        "    nRatings = len(group)\n",
        "\n",
        "    #Get the review scores for the movies that they both have in common\n",
        "    temp_df = inputCellphone[inputCellphone['cellphone_id'].isin(group['cellphone_id'].tolist())]\n",
        "\n",
        "    #And then store them in a temporary buffer variable in a list format to facilitate future calculations\n",
        "    tempRatingList = temp_df['rating'].tolist()\n",
        "   \n",
        "    #Let's also put the current user group reviews in a list format\n",
        "    tempGroupList = group['rating'].tolist()\n",
        "   \n",
        "    \n",
        "    #Now let's calculate the pearson correlation between two users, so called, x and y manually (check the formula from week 7 slide)\n",
        "    Sxx = sum([i**2 for i in tempRatingList]) - pow(sum(tempRatingList),2)/float(nRatings)\n",
        "    Syy = sum([i**2 for i in tempGroupList]) - pow(sum(tempGroupList),2)/float(nRatings)\n",
        "    Sxy = sum( i*j for i, j in zip(tempRatingList, tempGroupList)) - sum(tempRatingList)*sum(tempGroupList)/float(nRatings)\n",
        "\n",
        "    #If the denominator is different than zero, then divide, else, 0 correlation.\n",
        "    if Sxx != 0 and Syy != 0:\n",
        "        pearsonCorrelationDict[name] = Sxy/sqrt(Sxx*Syy)\n",
        "    else:\n",
        "        pearsonCorrelationDict[name] = 0\n",
        "    \n"
      ]
    },
    {
      "cell_type": "code",
      "execution_count": 31,
      "metadata": {
        "id": "Ozp4EqHsNjuX",
        "colab": {
          "base_uri": "https://localhost:8080/"
        },
        "outputId": "e37ef147-91b1-4e41-ca41-3ed3139aaec0"
      },
      "outputs": [
        {
          "output_type": "stream",
          "name": "stdout",
          "text": [
            "   similarityIndex  user_id\n",
            "0         0.986241       36\n",
            "1         0.000000      178\n",
            "2         0.866025      194\n",
            "3        -1.000000        6\n",
            "4         0.000000       24\n"
          ]
        }
      ],
      "source": [
        "pearsonDF = pd.DataFrame.from_dict(pearsonCorrelationDict, orient='index')\n",
        "pearsonDF.columns = ['similarityIndex']\n",
        "pearsonDF['user_id'] = pearsonDF.index\n",
        "pearsonDF.index = range(len(pearsonDF))\n",
        "print(pearsonDF.head())\n"
      ]
    },
    {
      "cell_type": "code",
      "execution_count": 32,
      "metadata": {
        "id": "R89syb-KNjuY",
        "colab": {
          "base_uri": "https://localhost:8080/"
        },
        "outputId": "1feb3983-7a24-4a06-839a-5da85ba58be4"
      },
      "outputs": [
        {
          "output_type": "stream",
          "name": "stdout",
          "text": [
            "    similarityIndex  user_id\n",
            "23              1.0      234\n",
            "13              1.0      124\n",
            "29              1.0      258\n",
            "24              1.0      240\n",
            "18              1.0      156\n"
          ]
        }
      ],
      "source": [
        "topUsers=pearsonDF.sort_values(by='similarityIndex', ascending=False)[0:50]\n",
        "print(topUsers.head())"
      ]
    },
    {
      "cell_type": "code",
      "execution_count": 33,
      "metadata": {
        "id": "Y5BLrcz7NjuZ",
        "colab": {
          "base_uri": "https://localhost:8080/"
        },
        "outputId": "d21b2e85-ea9b-4b4b-fd83-43ebcb764f75"
      },
      "outputs": [
        {
          "output_type": "stream",
          "name": "stdout",
          "text": [
            "    similarityIndex  user_id  cellphone_id  rating\n",
            "0               1.0      234            20       4\n",
            "1               1.0      234            10       8\n",
            "2               1.0      234            13       7\n",
            "3               1.0      234             6       1\n",
            "4               1.0      234            30       1\n",
            "..              ...      ...           ...     ...\n",
            "95              1.0      148             0      10\n",
            "96              1.0      148             1      10\n",
            "97              1.0      148            24       5\n",
            "98              1.0      148             5       4\n",
            "99              1.0      148             2      10\n",
            "\n",
            "[100 rows x 4 columns]\n"
          ]
        }
      ],
      "source": [
        "topUsersRating=topUsers.merge(ratings_df, left_on='user_id', right_on='user_id', how='inner')\n",
        "print(topUsersRating.head(100))"
      ]
    },
    {
      "cell_type": "code",
      "execution_count": 34,
      "metadata": {
        "id": "xHTIZNdwNjuZ",
        "colab": {
          "base_uri": "https://localhost:8080/"
        },
        "outputId": "af97bc30-5df3-47d9-cc26-784d51c6c1b6"
      },
      "outputs": [
        {
          "output_type": "stream",
          "name": "stdout",
          "text": [
            "   similarityIndex  user_id  cellphone_id  rating  weightedRating\n",
            "0              1.0      234            20       4             4.0\n",
            "1              1.0      234            10       8             8.0\n",
            "2              1.0      234            13       7             7.0\n",
            "3              1.0      234             6       1             1.0\n",
            "4              1.0      234            30       1             1.0\n"
          ]
        }
      ],
      "source": [
        "#Multiplies the similarity by the user’s ratings\n",
        "topUsersRating['weightedRating'] = topUsersRating['similarityIndex']*topUsersRating['rating']\n",
        "print(topUsersRating.head())"
      ]
    },
    {
      "cell_type": "code",
      "execution_count": 35,
      "metadata": {
        "id": "nsQ624GXNjua",
        "colab": {
          "base_uri": "https://localhost:8080/"
        },
        "outputId": "9e51c3bd-c7d7-44c9-f6c1-ee2de9345116"
      },
      "outputs": [
        {
          "output_type": "stream",
          "name": "stdout",
          "text": [
            "              sum_similarityIndex  sum_weightedRating\n",
            "cellphone_id                                         \n",
            "0                        1.000000           10.000000\n",
            "1                        7.852267           67.711677\n",
            "2                        4.986241           45.862414\n",
            "3                        1.866025           15.196152\n",
            "4                        0.000000            0.000000\n"
          ]
        }
      ],
      "source": [
        "#Applies a sum to the topUsers after grouping it up by movieId\n",
        "tempTopUsersRating = topUsersRating.groupby('cellphone_id').sum()[['similarityIndex','weightedRating']]\n",
        "tempTopUsersRating.columns = ['sum_similarityIndex','sum_weightedRating']\n",
        "print(tempTopUsersRating.head())"
      ]
    },
    {
      "cell_type": "code",
      "execution_count": 36,
      "metadata": {
        "id": "yFLw-nzNNjua",
        "colab": {
          "base_uri": "https://localhost:8080/"
        },
        "outputId": "be40f980-7987-4e9f-e503-f4d99226906c"
      },
      "outputs": [
        {
          "output_type": "stream",
          "name": "stdout",
          "text": [
            "              weighted average recommendation score  cellphone_id\n",
            "cellphone_id                                                     \n",
            "0                                         10.000000             0\n",
            "1                                          8.623201             1\n",
            "2                                          9.197793             2\n",
            "3                                          8.143594             3\n",
            "4                                               NaN             4\n",
            "5                                          7.001969             5\n",
            "6                                          5.006891             6\n",
            "7                                          8.000000             7\n",
            "8                                          8.000000             8\n",
            "9                                          6.415128             9\n"
          ]
        }
      ],
      "source": [
        "#Creates an empty dataframe\n",
        "recommendation_df = pd.DataFrame()\n",
        "\n",
        "#Now we take the weighted average\n",
        "recommendation_df['weighted average recommendation score'] = tempTopUsersRating['sum_weightedRating']/tempTopUsersRating['sum_similarityIndex']\n",
        "recommendation_df['cellphone_id'] = tempTopUsersRating.index\n",
        "print(recommendation_df.head(10))"
      ]
    },
    {
      "cell_type": "code",
      "execution_count": 37,
      "metadata": {
        "id": "A1tNpC07Njuc",
        "colab": {
          "base_uri": "https://localhost:8080/"
        },
        "outputId": "2bf6e087-1ecd-4a75-d4f2-52e9b7e7ff72"
      },
      "outputs": [
        {
          "output_type": "stream",
          "name": "stdout",
          "text": [
            "              weighted average recommendation score  cellphone_id\n",
            "cellphone_id                                                     \n",
            "0                                         10.000000             0\n",
            "2                                          9.197793             2\n",
            "12                                         8.666667            12\n",
            "1                                          8.623201             1\n",
            "3                                          8.143594             3\n",
            "7                                          8.000000             7\n",
            "8                                          8.000000             8\n",
            "21                                         8.000000            21\n",
            "22                                         7.752305            22\n",
            "25                                         7.500000            25\n",
            "19                                         7.493611            19\n",
            "23                                         7.333333            23\n",
            "28                                         7.250000            28\n",
            "5                                          7.001969             5\n",
            "31                                         7.000000            31\n",
            "27                                         7.000000            27\n",
            "17                                         6.813245            17\n",
            "29                                         6.666667            29\n",
            "13                                         6.500000            13\n",
            "10                                         6.491540            10\n",
            "9                                          6.415128             9\n",
            "11                                         6.293318            11\n",
            "24                                         6.250000            24\n",
            "20                                         6.000000            20\n",
            "32                                         6.000000            32\n",
            "16                                         5.400000            16\n",
            "26                                         5.264669            26\n",
            "15                                         5.200000            15\n",
            "6                                          5.006891             6\n",
            "14                                         4.524244            14\n",
            "30                                         4.500000            30\n",
            "18                                         3.293318            18\n",
            "4                                               NaN             4\n"
          ]
        }
      ],
      "source": [
        "recommendation_df = recommendation_df.sort_values(by='weighted average recommendation score', ascending=False)\n",
        "print(recommendation_df)\n"
      ]
    },
    {
      "cell_type": "code",
      "execution_count": 38,
      "metadata": {
        "id": "5liD4u2aNjud",
        "colab": {
          "base_uri": "https://localhost:8080/"
        },
        "outputId": "d8e9877c-c48d-4ccf-f6f6-00345275767c"
      },
      "outputs": [
        {
          "output_type": "stream",
          "name": "stdout",
          "text": [
            "     user_id  cellphone_id  rating\n",
            "0          0            30       1\n",
            "1          0             5       3\n",
            "2          0            10       9\n",
            "3          0             9       3\n",
            "4          0            23       2\n",
            "..       ...           ...     ...\n",
            "985      258            31       5\n",
            "986      258            17       8\n",
            "987      258            23       9\n",
            "988      258            27       8\n",
            "989      258            24       6\n",
            "\n",
            "[877 rows x 3 columns]\n"
          ]
        }
      ],
      "source": [
        "recommended_cellphone=ratings_df.loc[ratings_df['cellphone_id'].isin(recommendation_df['cellphone_id'])]\n",
        "\n",
        "#we don't want to recommend the same movie\n",
        "recommended_cellphone=recommended_cellphone.loc[~recommended_cellphone.cellphone_id.isin(userSubset['cellphone_id'])]\n",
        "\n",
        "print(recommended_cellphone)"
      ]
    }
  ],
  "metadata": {
    "kernelspec": {
      "display_name": "Python 3",
      "language": "python",
      "name": "python3"
    },
    "language_info": {
      "codemirror_mode": {
        "name": "ipython",
        "version": 3
      },
      "file_extension": ".py",
      "mimetype": "text/x-python",
      "name": "python",
      "nbconvert_exporter": "python",
      "pygments_lexer": "ipython3",
      "version": "3.7.4"
    },
    "colab": {
      "provenance": []
    }
  },
  "nbformat": 4,
  "nbformat_minor": 0
}