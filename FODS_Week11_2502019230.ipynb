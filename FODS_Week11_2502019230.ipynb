{
  "cells": [
    {
      "cell_type": "markdown",
      "metadata": {
        "id": "8ZonY_oYNjt_"
      },
      "source": [
        "<h3><b> Based on this exercise, discuss the the questions in Quizizz with your group"
      ]
    },
    {
      "cell_type": "markdown",
      "metadata": {
        "id": "k5Xr9Dv4NjuF"
      },
      "source": [
        "Steps in a user-based recommendation system:\n",
        "\n",
        "1. Select a user with the movies the user has watched\n",
        "2. Based on his rating to movies, find the top x neighbours\n",
        "3. Get the watched movie record of the user for each neighbour.\n",
        "4. Calculate a similarity score using some formula\n",
        "5. Recommend the items with the highest score"
      ]
    },
    {
      "cell_type": "code",
      "execution_count": 316,
      "metadata": {
        "id": "m32700SVNjuL"
      },
      "outputs": [],
      "source": [
        "import pandas as pd\n",
        "from math import sqrt\n",
        "import numpy as np\n"
      ]
    },
    {
      "cell_type": "code",
      "execution_count": 317,
      "metadata": {
        "colab": {
          "base_uri": "https://localhost:8080/"
        },
        "id": "maXzLmxGNjuO",
        "outputId": "21036363-042e-4512-f7ef-34a3e4a93cda"
      },
      "outputs": [
        {
          "output_type": "stream",
          "name": "stdout",
          "text": [
            "<class 'pandas.core.frame.DataFrame'>\n",
            "RangeIndex: 200 entries, 0 to 199\n",
            "Data columns (total 3 columns):\n",
            " #   Column         Non-Null Count  Dtype  \n",
            "---  ------         --------------  -----  \n",
            " 0   UserID         200 non-null    int64  \n",
            " 1   LocationID     200 non-null    int64  \n",
            " 2   OverallRating  200 non-null    float64\n",
            "dtypes: float64(1), int64(2)\n",
            "memory usage: 4.8 KB\n",
            "None\n"
          ]
        }
      ],
      "source": [
        "ratings_df = pd.read_csv('Cuisine_rating.csv')\n",
        "print(ratings_df.info())"
      ]
    },
    {
      "cell_type": "code",
      "source": [
        "ratings_df.head()"
      ],
      "metadata": {
        "colab": {
          "base_uri": "https://localhost:8080/",
          "height": 206
        },
        "id": "6kgzPLQDwjcl",
        "outputId": "ce17b465-f48d-4141-cb8e-0d949df8fd79"
      },
      "execution_count": 318,
      "outputs": [
        {
          "output_type": "execute_result",
          "data": {
            "text/plain": [
              "   UserID  LocationID  OverallRating\n",
              "0       1         153            4.5\n",
              "1       2         123            1.0\n",
              "2       3         122            5.0\n",
              "3       4         153            2.0\n",
              "4       5         129            3.0"
            ],
            "text/html": [
              "\n",
              "  <div id=\"df-e33c5523-14f9-4d91-b02f-1d87d1a7d3aa\">\n",
              "    <div class=\"colab-df-container\">\n",
              "      <div>\n",
              "<style scoped>\n",
              "    .dataframe tbody tr th:only-of-type {\n",
              "        vertical-align: middle;\n",
              "    }\n",
              "\n",
              "    .dataframe tbody tr th {\n",
              "        vertical-align: top;\n",
              "    }\n",
              "\n",
              "    .dataframe thead th {\n",
              "        text-align: right;\n",
              "    }\n",
              "</style>\n",
              "<table border=\"1\" class=\"dataframe\">\n",
              "  <thead>\n",
              "    <tr style=\"text-align: right;\">\n",
              "      <th></th>\n",
              "      <th>UserID</th>\n",
              "      <th>LocationID</th>\n",
              "      <th>OverallRating</th>\n",
              "    </tr>\n",
              "  </thead>\n",
              "  <tbody>\n",
              "    <tr>\n",
              "      <th>0</th>\n",
              "      <td>1</td>\n",
              "      <td>153</td>\n",
              "      <td>4.5</td>\n",
              "    </tr>\n",
              "    <tr>\n",
              "      <th>1</th>\n",
              "      <td>2</td>\n",
              "      <td>123</td>\n",
              "      <td>1.0</td>\n",
              "    </tr>\n",
              "    <tr>\n",
              "      <th>2</th>\n",
              "      <td>3</td>\n",
              "      <td>122</td>\n",
              "      <td>5.0</td>\n",
              "    </tr>\n",
              "    <tr>\n",
              "      <th>3</th>\n",
              "      <td>4</td>\n",
              "      <td>153</td>\n",
              "      <td>2.0</td>\n",
              "    </tr>\n",
              "    <tr>\n",
              "      <th>4</th>\n",
              "      <td>5</td>\n",
              "      <td>129</td>\n",
              "      <td>3.0</td>\n",
              "    </tr>\n",
              "  </tbody>\n",
              "</table>\n",
              "</div>\n",
              "      <button class=\"colab-df-convert\" onclick=\"convertToInteractive('df-e33c5523-14f9-4d91-b02f-1d87d1a7d3aa')\"\n",
              "              title=\"Convert this dataframe to an interactive table.\"\n",
              "              style=\"display:none;\">\n",
              "        \n",
              "  <svg xmlns=\"http://www.w3.org/2000/svg\" height=\"24px\"viewBox=\"0 0 24 24\"\n",
              "       width=\"24px\">\n",
              "    <path d=\"M0 0h24v24H0V0z\" fill=\"none\"/>\n",
              "    <path d=\"M18.56 5.44l.94 2.06.94-2.06 2.06-.94-2.06-.94-.94-2.06-.94 2.06-2.06.94zm-11 1L8.5 8.5l.94-2.06 2.06-.94-2.06-.94L8.5 2.5l-.94 2.06-2.06.94zm10 10l.94 2.06.94-2.06 2.06-.94-2.06-.94-.94-2.06-.94 2.06-2.06.94z\"/><path d=\"M17.41 7.96l-1.37-1.37c-.4-.4-.92-.59-1.43-.59-.52 0-1.04.2-1.43.59L10.3 9.45l-7.72 7.72c-.78.78-.78 2.05 0 2.83L4 21.41c.39.39.9.59 1.41.59.51 0 1.02-.2 1.41-.59l7.78-7.78 2.81-2.81c.8-.78.8-2.07 0-2.86zM5.41 20L4 18.59l7.72-7.72 1.47 1.35L5.41 20z\"/>\n",
              "  </svg>\n",
              "      </button>\n",
              "      \n",
              "  <style>\n",
              "    .colab-df-container {\n",
              "      display:flex;\n",
              "      flex-wrap:wrap;\n",
              "      gap: 12px;\n",
              "    }\n",
              "\n",
              "    .colab-df-convert {\n",
              "      background-color: #E8F0FE;\n",
              "      border: none;\n",
              "      border-radius: 50%;\n",
              "      cursor: pointer;\n",
              "      display: none;\n",
              "      fill: #1967D2;\n",
              "      height: 32px;\n",
              "      padding: 0 0 0 0;\n",
              "      width: 32px;\n",
              "    }\n",
              "\n",
              "    .colab-df-convert:hover {\n",
              "      background-color: #E2EBFA;\n",
              "      box-shadow: 0px 1px 2px rgba(60, 64, 67, 0.3), 0px 1px 3px 1px rgba(60, 64, 67, 0.15);\n",
              "      fill: #174EA6;\n",
              "    }\n",
              "\n",
              "    [theme=dark] .colab-df-convert {\n",
              "      background-color: #3B4455;\n",
              "      fill: #D2E3FC;\n",
              "    }\n",
              "\n",
              "    [theme=dark] .colab-df-convert:hover {\n",
              "      background-color: #434B5C;\n",
              "      box-shadow: 0px 1px 3px 1px rgba(0, 0, 0, 0.15);\n",
              "      filter: drop-shadow(0px 1px 2px rgba(0, 0, 0, 0.3));\n",
              "      fill: #FFFFFF;\n",
              "    }\n",
              "  </style>\n",
              "\n",
              "      <script>\n",
              "        const buttonEl =\n",
              "          document.querySelector('#df-e33c5523-14f9-4d91-b02f-1d87d1a7d3aa button.colab-df-convert');\n",
              "        buttonEl.style.display =\n",
              "          google.colab.kernel.accessAllowed ? 'block' : 'none';\n",
              "\n",
              "        async function convertToInteractive(key) {\n",
              "          const element = document.querySelector('#df-e33c5523-14f9-4d91-b02f-1d87d1a7d3aa');\n",
              "          const dataTable =\n",
              "            await google.colab.kernel.invokeFunction('convertToInteractive',\n",
              "                                                     [key], {});\n",
              "          if (!dataTable) return;\n",
              "\n",
              "          const docLinkHtml = 'Like what you see? Visit the ' +\n",
              "            '<a target=\"_blank\" href=https://colab.research.google.com/notebooks/data_table.ipynb>data table notebook</a>'\n",
              "            + ' to learn more about interactive tables.';\n",
              "          element.innerHTML = '';\n",
              "          dataTable['output_type'] = 'display_data';\n",
              "          await google.colab.output.renderOutput(dataTable, element);\n",
              "          const docLink = document.createElement('div');\n",
              "          docLink.innerHTML = docLinkHtml;\n",
              "          element.appendChild(docLink);\n",
              "        }\n",
              "      </script>\n",
              "    </div>\n",
              "  </div>\n",
              "  "
            ]
          },
          "metadata": {},
          "execution_count": 318
        }
      ]
    },
    {
      "cell_type": "code",
      "source": [
        "ratings_df"
      ],
      "metadata": {
        "colab": {
          "base_uri": "https://localhost:8080/",
          "height": 424
        },
        "id": "221BB3gYTGtC",
        "outputId": "6f9d0102-8362-4610-cc31-5d074a5893b8"
      },
      "execution_count": 319,
      "outputs": [
        {
          "output_type": "execute_result",
          "data": {
            "text/plain": [
              "     UserID  LocationID  OverallRating\n",
              "0         1         153            4.5\n",
              "1         2         123            1.0\n",
              "2         3         122            5.0\n",
              "3         4         153            2.0\n",
              "4         5         129            3.0\n",
              "..      ...         ...            ...\n",
              "195     196         175            1.5\n",
              "196     197         170            1.5\n",
              "197     198         160            3.5\n",
              "198     199         130            2.5\n",
              "199     200         140            2.5\n",
              "\n",
              "[200 rows x 3 columns]"
            ],
            "text/html": [
              "\n",
              "  <div id=\"df-eb262f95-c5e2-4557-8957-ff680db472cb\">\n",
              "    <div class=\"colab-df-container\">\n",
              "      <div>\n",
              "<style scoped>\n",
              "    .dataframe tbody tr th:only-of-type {\n",
              "        vertical-align: middle;\n",
              "    }\n",
              "\n",
              "    .dataframe tbody tr th {\n",
              "        vertical-align: top;\n",
              "    }\n",
              "\n",
              "    .dataframe thead th {\n",
              "        text-align: right;\n",
              "    }\n",
              "</style>\n",
              "<table border=\"1\" class=\"dataframe\">\n",
              "  <thead>\n",
              "    <tr style=\"text-align: right;\">\n",
              "      <th></th>\n",
              "      <th>UserID</th>\n",
              "      <th>LocationID</th>\n",
              "      <th>OverallRating</th>\n",
              "    </tr>\n",
              "  </thead>\n",
              "  <tbody>\n",
              "    <tr>\n",
              "      <th>0</th>\n",
              "      <td>1</td>\n",
              "      <td>153</td>\n",
              "      <td>4.5</td>\n",
              "    </tr>\n",
              "    <tr>\n",
              "      <th>1</th>\n",
              "      <td>2</td>\n",
              "      <td>123</td>\n",
              "      <td>1.0</td>\n",
              "    </tr>\n",
              "    <tr>\n",
              "      <th>2</th>\n",
              "      <td>3</td>\n",
              "      <td>122</td>\n",
              "      <td>5.0</td>\n",
              "    </tr>\n",
              "    <tr>\n",
              "      <th>3</th>\n",
              "      <td>4</td>\n",
              "      <td>153</td>\n",
              "      <td>2.0</td>\n",
              "    </tr>\n",
              "    <tr>\n",
              "      <th>4</th>\n",
              "      <td>5</td>\n",
              "      <td>129</td>\n",
              "      <td>3.0</td>\n",
              "    </tr>\n",
              "    <tr>\n",
              "      <th>...</th>\n",
              "      <td>...</td>\n",
              "      <td>...</td>\n",
              "      <td>...</td>\n",
              "    </tr>\n",
              "    <tr>\n",
              "      <th>195</th>\n",
              "      <td>196</td>\n",
              "      <td>175</td>\n",
              "      <td>1.5</td>\n",
              "    </tr>\n",
              "    <tr>\n",
              "      <th>196</th>\n",
              "      <td>197</td>\n",
              "      <td>170</td>\n",
              "      <td>1.5</td>\n",
              "    </tr>\n",
              "    <tr>\n",
              "      <th>197</th>\n",
              "      <td>198</td>\n",
              "      <td>160</td>\n",
              "      <td>3.5</td>\n",
              "    </tr>\n",
              "    <tr>\n",
              "      <th>198</th>\n",
              "      <td>199</td>\n",
              "      <td>130</td>\n",
              "      <td>2.5</td>\n",
              "    </tr>\n",
              "    <tr>\n",
              "      <th>199</th>\n",
              "      <td>200</td>\n",
              "      <td>140</td>\n",
              "      <td>2.5</td>\n",
              "    </tr>\n",
              "  </tbody>\n",
              "</table>\n",
              "<p>200 rows × 3 columns</p>\n",
              "</div>\n",
              "      <button class=\"colab-df-convert\" onclick=\"convertToInteractive('df-eb262f95-c5e2-4557-8957-ff680db472cb')\"\n",
              "              title=\"Convert this dataframe to an interactive table.\"\n",
              "              style=\"display:none;\">\n",
              "        \n",
              "  <svg xmlns=\"http://www.w3.org/2000/svg\" height=\"24px\"viewBox=\"0 0 24 24\"\n",
              "       width=\"24px\">\n",
              "    <path d=\"M0 0h24v24H0V0z\" fill=\"none\"/>\n",
              "    <path d=\"M18.56 5.44l.94 2.06.94-2.06 2.06-.94-2.06-.94-.94-2.06-.94 2.06-2.06.94zm-11 1L8.5 8.5l.94-2.06 2.06-.94-2.06-.94L8.5 2.5l-.94 2.06-2.06.94zm10 10l.94 2.06.94-2.06 2.06-.94-2.06-.94-.94-2.06-.94 2.06-2.06.94z\"/><path d=\"M17.41 7.96l-1.37-1.37c-.4-.4-.92-.59-1.43-.59-.52 0-1.04.2-1.43.59L10.3 9.45l-7.72 7.72c-.78.78-.78 2.05 0 2.83L4 21.41c.39.39.9.59 1.41.59.51 0 1.02-.2 1.41-.59l7.78-7.78 2.81-2.81c.8-.78.8-2.07 0-2.86zM5.41 20L4 18.59l7.72-7.72 1.47 1.35L5.41 20z\"/>\n",
              "  </svg>\n",
              "      </button>\n",
              "      \n",
              "  <style>\n",
              "    .colab-df-container {\n",
              "      display:flex;\n",
              "      flex-wrap:wrap;\n",
              "      gap: 12px;\n",
              "    }\n",
              "\n",
              "    .colab-df-convert {\n",
              "      background-color: #E8F0FE;\n",
              "      border: none;\n",
              "      border-radius: 50%;\n",
              "      cursor: pointer;\n",
              "      display: none;\n",
              "      fill: #1967D2;\n",
              "      height: 32px;\n",
              "      padding: 0 0 0 0;\n",
              "      width: 32px;\n",
              "    }\n",
              "\n",
              "    .colab-df-convert:hover {\n",
              "      background-color: #E2EBFA;\n",
              "      box-shadow: 0px 1px 2px rgba(60, 64, 67, 0.3), 0px 1px 3px 1px rgba(60, 64, 67, 0.15);\n",
              "      fill: #174EA6;\n",
              "    }\n",
              "\n",
              "    [theme=dark] .colab-df-convert {\n",
              "      background-color: #3B4455;\n",
              "      fill: #D2E3FC;\n",
              "    }\n",
              "\n",
              "    [theme=dark] .colab-df-convert:hover {\n",
              "      background-color: #434B5C;\n",
              "      box-shadow: 0px 1px 3px 1px rgba(0, 0, 0, 0.15);\n",
              "      filter: drop-shadow(0px 1px 2px rgba(0, 0, 0, 0.3));\n",
              "      fill: #FFFFFF;\n",
              "    }\n",
              "  </style>\n",
              "\n",
              "      <script>\n",
              "        const buttonEl =\n",
              "          document.querySelector('#df-eb262f95-c5e2-4557-8957-ff680db472cb button.colab-df-convert');\n",
              "        buttonEl.style.display =\n",
              "          google.colab.kernel.accessAllowed ? 'block' : 'none';\n",
              "\n",
              "        async function convertToInteractive(key) {\n",
              "          const element = document.querySelector('#df-eb262f95-c5e2-4557-8957-ff680db472cb');\n",
              "          const dataTable =\n",
              "            await google.colab.kernel.invokeFunction('convertToInteractive',\n",
              "                                                     [key], {});\n",
              "          if (!dataTable) return;\n",
              "\n",
              "          const docLinkHtml = 'Like what you see? Visit the ' +\n",
              "            '<a target=\"_blank\" href=https://colab.research.google.com/notebooks/data_table.ipynb>data table notebook</a>'\n",
              "            + ' to learn more about interactive tables.';\n",
              "          element.innerHTML = '';\n",
              "          dataTable['output_type'] = 'display_data';\n",
              "          await google.colab.output.renderOutput(dataTable, element);\n",
              "          const docLink = document.createElement('div');\n",
              "          docLink.innerHTML = docLinkHtml;\n",
              "          element.appendChild(docLink);\n",
              "        }\n",
              "      </script>\n",
              "    </div>\n",
              "  </div>\n",
              "  "
            ]
          },
          "metadata": {},
          "execution_count": 319
        }
      ]
    },
    {
      "cell_type": "code",
      "execution_count": 320,
      "metadata": {
        "colab": {
          "base_uri": "https://localhost:8080/"
        },
        "id": "gW_QBJHLNjuP",
        "outputId": "517e7e2f-df84-4682-8e86-97c4da4fae66"
      },
      "outputs": [
        {
          "output_type": "stream",
          "name": "stdout",
          "text": [
            "   LocationID  OverallRating\n",
            "0         153            4.5\n",
            "1         123            2.0\n",
            "2         130            3.0\n",
            "3         129            5.0\n"
          ]
        }
      ],
      "source": [
        "userInput = [{'LocationID': 153, 'OverallRating':4.5},\n",
        "             {'LocationID': 123, 'OverallRating':2.0},\n",
        "             {'LocationID': 130, 'OverallRating':3.0},\n",
        "             {'LocationID': 129, 'OverallRating':5.0}]\n",
        "inputResto = pd.DataFrame(userInput)\n",
        "print(inputResto)"
      ]
    },
    {
      "cell_type": "code",
      "source": [
        "# inputId = ratings_df[ratings_df['Location'].isin(inputResto['Location'].tolist())]\n",
        "# inputResto = pd.merge(inputId, inputResto)\n",
        "# inputResto = inputResto.drop('Cuisines', 1) #we don't really need this at the moment\n",
        "# inputResto = inputResto[['LocationID','Location','OverallRating']]\n",
        "# print(inputResto)"
      ],
      "metadata": {
        "id": "qPrrJ50ZLV96"
      },
      "execution_count": 321,
      "outputs": []
    },
    {
      "cell_type": "code",
      "execution_count": 322,
      "metadata": {
        "colab": {
          "base_uri": "https://localhost:8080/"
        },
        "id": "BmGI-DmrNjuS",
        "outputId": "386a9f5d-f5da-4b1d-e6d7-e3cbe063f227"
      },
      "outputs": [
        {
          "output_type": "stream",
          "name": "stdout",
          "text": [
            "            UserID  OverallRating\n",
            "LocationID                       \n",
            "123             24             24\n",
            "129             17             17\n",
            "130              2              2\n",
            "153             15             15\n"
          ]
        }
      ],
      "source": [
        "userSubset = ratings_df[ratings_df['LocationID'].isin(inputResto['LocationID'].tolist())]\n",
        "print(userSubset.groupby('LocationID').count())"
      ]
    },
    {
      "cell_type": "code",
      "execution_count": 323,
      "metadata": {
        "colab": {
          "base_uri": "https://localhost:8080/"
        },
        "id": "-1566eb1NjuU",
        "outputId": "c6e23470-e2c8-46be-8797-e93dc61a3471"
      },
      "outputs": [
        {
          "output_type": "stream",
          "name": "stdout",
          "text": [
            "[(1,    UserID  LocationID  OverallRating\n",
            "0       1         153            4.5), (2,    UserID  LocationID  OverallRating\n",
            "1       2         123            1.0), (4,    UserID  LocationID  OverallRating\n",
            "3       4         153            2.0), (5,    UserID  LocationID  OverallRating\n",
            "4       5         129            3.0), (8,    UserID  LocationID  OverallRating\n",
            "7       8         153            3.5)]\n"
          ]
        }
      ],
      "source": [
        "#Groupby creates several sub dataframes where they all have the same value in the column specified as the parameter\n",
        "userSubsetGroup = userSubset.groupby(['UserID'])\n",
        "\n",
        "def take_5_elem(x):\n",
        "    # print (len(x[1]))\n",
        "    return len(x[1])\n",
        "    \n",
        "\n",
        "#Sorting it so users with resto most in common with the input will have priority\n",
        "userSubsetGroup = sorted(userSubsetGroup, key=take_5_elem, reverse=True)\n",
        "\n",
        "userSubsetGroup = userSubsetGroup[0:100]\n",
        "print(userSubsetGroup[0:5])\n"
      ]
    },
    {
      "cell_type": "code",
      "execution_count": 324,
      "metadata": {
        "id": "h_KYBeMtNjuV"
      },
      "outputs": [],
      "source": [
        "#Store the Pearson Correlation in a dictionary, where the key is the user Id and the value is the coefficient\n",
        "pearsonCorrelationDict = {}\n",
        "\n",
        "#For every user group in our subset\n",
        "for name, group in userSubsetGroup:\n",
        "\n",
        "    #Let's start by sorting the input and current user group so the values aren't mixed up later on\n",
        "    group = group.sort_values(by='LocationID')\n",
        "    inputResto = inputResto.sort_values(by='LocationID')\n",
        "\n",
        "    #Get the N for the formula\n",
        "    nRatings = len(group)\n",
        "\n",
        "    #Get the review scores for the movies that they both have in common\n",
        "    temp_df = inputResto[inputResto['LocationID'].isin(group['LocationID'].tolist())]\n",
        "\n",
        "    #And then store them in a temporary buffer variable in a list format to facilitate future calculations\n",
        "    tempRatingList = temp_df['OverallRating'].tolist()\n",
        "   \n",
        "    #Let's also put the current user group reviews in a list format\n",
        "    tempGroupList = group['OverallRating'].tolist()\n",
        "   \n",
        "    \n",
        "    #Now let's calculate the pearson correlation between two users, so called, x and y manually (check the formula from week 7 slide)\n",
        "    Sxx = sum([i**2 for i in tempRatingList]) - pow(sum(tempRatingList),2)/float(nRatings)\n",
        "    Syy = sum([i**2 for i in tempGroupList]) - pow(sum(tempGroupList),2)/float(nRatings)\n",
        "    Sxy = sum( i*j for i, j in zip(tempRatingList, tempGroupList)) - sum(tempRatingList)*sum(tempGroupList)/float(nRatings)\n",
        "\n",
        "    #If the denominator is different than zero, then divide, else, 0 correlation.\n",
        "    if Sxx != 0 and Syy != 0:\n",
        "        pearsonCorrelationDict[name] = Sxy/sqrt(Sxx*Syy)\n",
        "    else:\n",
        "        pearsonCorrelationDict[name] = 0\n",
        "    \n"
      ]
    },
    {
      "cell_type": "code",
      "execution_count": 325,
      "metadata": {
        "id": "Ozp4EqHsNjuX",
        "colab": {
          "base_uri": "https://localhost:8080/"
        },
        "outputId": "70bbd788-2fe7-47f9-970d-6d5af1484d96"
      },
      "outputs": [
        {
          "output_type": "stream",
          "name": "stdout",
          "text": [
            "   similarityIndex  UserID\n",
            "0                0       1\n",
            "1                0       2\n",
            "2                0       4\n",
            "3                0       5\n",
            "4                0       8\n"
          ]
        }
      ],
      "source": [
        "pearsonDF = pd.DataFrame.from_dict(pearsonCorrelationDict, orient='index')\n",
        "pearsonDF.columns = ['similarityIndex']\n",
        "pearsonDF['UserID'] = pearsonDF.index\n",
        "pearsonDF.index = range(len(pearsonDF))\n",
        "print(pearsonDF.head())\n"
      ]
    },
    {
      "cell_type": "code",
      "execution_count": 326,
      "metadata": {
        "id": "R89syb-KNjuY",
        "colab": {
          "base_uri": "https://localhost:8080/"
        },
        "outputId": "3e11d654-1784-4eab-f703-47c3a7d00876"
      },
      "outputs": [
        {
          "output_type": "stream",
          "name": "stdout",
          "text": [
            "    similarityIndex  UserID\n",
            "0                 0       1\n",
            "43                0      78\n",
            "31                0      57\n",
            "32                0      58\n",
            "33                0      59\n"
          ]
        }
      ],
      "source": [
        "topUsers=pearsonDF.sort_values(by='similarityIndex', ascending=False)[0:50]\n",
        "print(topUsers.head())"
      ]
    },
    {
      "cell_type": "code",
      "execution_count": 327,
      "metadata": {
        "id": "Y5BLrcz7NjuZ",
        "colab": {
          "base_uri": "https://localhost:8080/"
        },
        "outputId": "58e227e9-0e87-4fe2-cfab-f6a84341634a"
      },
      "outputs": [
        {
          "output_type": "stream",
          "name": "stdout",
          "text": [
            "    similarityIndex  UserID  LocationID  OverallRating\n",
            "0                 0       1         153            4.5\n",
            "1                 0      78         153            3.0\n",
            "2                 0      57         123            5.0\n",
            "3                 0      58         129            3.5\n",
            "4                 0      59         123            3.0\n",
            "5                 0      61         129            3.5\n",
            "6                 0      63         123            5.0\n",
            "7                 0      64         153            1.0\n",
            "8                 0      65         129            5.0\n",
            "9                 0      72         123            1.5\n",
            "10                0      73         123            1.0\n",
            "11                0      74         153            3.0\n",
            "12                0      75         123            3.5\n",
            "13                0      77         129            3.5\n",
            "14                0      82         153            4.0\n",
            "15                0       2         123            1.0\n",
            "16                0      85         153            5.0\n",
            "17                0      87         123            3.0\n",
            "18                0      88         129            5.0\n",
            "19                0      90         123            5.0\n",
            "20                0      93         123            5.0\n",
            "21                0      96         123            1.5\n",
            "22                0      98         123            3.5\n",
            "23                0      99         123            2.5\n",
            "24                0     100         153            2.5\n",
            "25                0     110         129            3.5\n",
            "26                0     121         130            4.0\n",
            "27                0     125         123            4.0\n",
            "28                0      54         123            4.0\n",
            "29                0      53         153            4.0\n",
            "30                0      52         153            2.5\n",
            "31                0      47         129            4.0\n",
            "32                0       4         153            2.0\n",
            "33                0       5         129            3.0\n",
            "34                0       8         153            3.5\n",
            "35                0      10         129            3.5\n",
            "36                0      11         123            2.5\n",
            "37                0      12         123            2.0\n",
            "38                0      13         123            5.0\n",
            "39                0      16         153            2.5\n",
            "40                0      18         153            3.0\n",
            "41                0      19         129            4.0\n",
            "42                0      20         129            2.0\n",
            "43                0      21         123            4.0\n",
            "44                0      22         153            2.5\n",
            "45                0      25         129            3.5\n",
            "46                0      26         123            3.5\n",
            "47                0      27         129            2.5\n",
            "48                0      34         129            3.0\n",
            "49                0      35         129            5.0\n"
          ]
        }
      ],
      "source": [
        "topUsersRating=topUsers.merge(ratings_df, left_on='UserID', right_on='UserID', how='inner')\n",
        "print(topUsersRating.head(100))"
      ]
    },
    {
      "cell_type": "code",
      "execution_count": 328,
      "metadata": {
        "id": "xHTIZNdwNjuZ",
        "colab": {
          "base_uri": "https://localhost:8080/"
        },
        "outputId": "c880ea63-ca34-452a-99f6-773e5c26fd40"
      },
      "outputs": [
        {
          "output_type": "stream",
          "name": "stdout",
          "text": [
            "   similarityIndex  UserID  LocationID  OverallRating  weightedRating\n",
            "0                0       1         153            4.5             0.0\n",
            "1                0      78         153            3.0             0.0\n",
            "2                0      57         123            5.0             0.0\n",
            "3                0      58         129            3.5             0.0\n",
            "4                0      59         123            3.0             0.0\n"
          ]
        }
      ],
      "source": [
        "#Multiplies the similarity by the user’s ratings\n",
        "topUsersRating['weightedRating'] = topUsersRating['similarityIndex']*topUsersRating['OverallRating']\n",
        "print(topUsersRating.head())"
      ]
    },
    {
      "cell_type": "code",
      "execution_count": 329,
      "metadata": {
        "id": "nsQ624GXNjua",
        "colab": {
          "base_uri": "https://localhost:8080/"
        },
        "outputId": "7f7a0856-077f-4f3d-a477-a6e1dae66084"
      },
      "outputs": [
        {
          "output_type": "stream",
          "name": "stdout",
          "text": [
            "            sum_similarityIndex  sum_weightedRating\n",
            "LocationID                                         \n",
            "123                           0                 0.0\n",
            "129                           0                 0.0\n",
            "130                           0                 0.0\n",
            "153                           0                 0.0\n"
          ]
        }
      ],
      "source": [
        "#Applies a sum to the topUsers after grouping it up by movieId\n",
        "tempTopUsersRating = topUsersRating.groupby('LocationID').sum()[['similarityIndex','weightedRating']]\n",
        "tempTopUsersRating.columns = ['sum_similarityIndex','sum_weightedRating']\n",
        "print(tempTopUsersRating.head())"
      ]
    },
    {
      "cell_type": "code",
      "execution_count": 330,
      "metadata": {
        "id": "yFLw-nzNNjua",
        "colab": {
          "base_uri": "https://localhost:8080/"
        },
        "outputId": "fed8d4b6-b89a-4893-89d8-c402c3fc542e"
      },
      "outputs": [
        {
          "output_type": "stream",
          "name": "stdout",
          "text": [
            "            weighted average recommendation score  LocationID\n",
            "LocationID                                                   \n",
            "123                                           NaN         123\n",
            "129                                           NaN         129\n",
            "130                                           NaN         130\n",
            "153                                           NaN         153\n"
          ]
        }
      ],
      "source": [
        "#Creates an empty dataframe\n",
        "recommendation_df = pd.DataFrame()\n",
        "\n",
        "#Now we take the weighted average\n",
        "recommendation_df['weighted average recommendation score'] = tempTopUsersRating['sum_weightedRating']/tempTopUsersRating['sum_similarityIndex']\n",
        "recommendation_df['LocationID'] = tempTopUsersRating.index\n",
        "print(recommendation_df.head(10))"
      ]
    },
    {
      "cell_type": "code",
      "execution_count": 331,
      "metadata": {
        "id": "A1tNpC07Njuc",
        "colab": {
          "base_uri": "https://localhost:8080/"
        },
        "outputId": "de16d610-91fe-4d7a-e761-f7b18e6e7c65"
      },
      "outputs": [
        {
          "output_type": "stream",
          "name": "stdout",
          "text": [
            "            weighted average recommendation score  LocationID\n",
            "LocationID                                                   \n",
            "123                                           NaN         123\n",
            "129                                           NaN         129\n",
            "130                                           NaN         130\n",
            "153                                           NaN         153\n"
          ]
        }
      ],
      "source": [
        "recommendation_df = recommendation_df.sort_values(by='weighted average recommendation score', ascending=False)\n",
        "print(recommendation_df)\n"
      ]
    },
    {
      "cell_type": "code",
      "execution_count": 332,
      "metadata": {
        "id": "5liD4u2aNjud",
        "colab": {
          "base_uri": "https://localhost:8080/"
        },
        "outputId": "e1343d59-8e7d-48b5-f4c2-7694219ceefe"
      },
      "outputs": [
        {
          "output_type": "stream",
          "name": "stdout",
          "text": [
            "Empty DataFrame\n",
            "Columns: [UserID, LocationID, OverallRating]\n",
            "Index: []\n"
          ]
        }
      ],
      "source": [
        "recommended_resto=ratings_df.loc[ratings_df['LocationID'].isin(recommendation_df['LocationID'])]\n",
        "\n",
        "#we don't want to recommend the same movie\n",
        "recommended_resto=recommended_resto.loc[~recommended_resto.LocationID.isin(userSubset['LocationID'])]\n",
        "\n",
        "print(recommended_resto)"
      ]
    },
    {
      "cell_type": "markdown",
      "source": [
        "Notes for sir bagus :\n",
        "I have tried with 2 dataset and it always turns out empty dataframe and its not showing the similarity index. All the code works well but the output still wrong. I hope you can explain to me later what my mistakes in the next meeting. Thankyou sir."
      ],
      "metadata": {
        "id": "CbtN26QNdOor"
      }
    }
  ],
  "metadata": {
    "kernelspec": {
      "display_name": "Python 3",
      "language": "python",
      "name": "python3"
    },
    "language_info": {
      "codemirror_mode": {
        "name": "ipython",
        "version": 3
      },
      "file_extension": ".py",
      "mimetype": "text/x-python",
      "name": "python",
      "nbconvert_exporter": "python",
      "pygments_lexer": "ipython3",
      "version": "3.7.4"
    },
    "colab": {
      "provenance": []
    }
  },
  "nbformat": 4,
  "nbformat_minor": 0
}